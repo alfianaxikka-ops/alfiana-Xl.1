{
  "nbformat": 4,
  "nbformat_minor": 0,
  "metadata": {
    "colab": {
      "provenance": [],
      "include_colab_link": true
    },
    "kernelspec": {
      "name": "python3",
      "display_name": "Python 3"
    },
    "language_info": {
      "name": "python"
    }
  },
  "cells": [
    {
      "cell_type": "markdown",
      "metadata": {
        "id": "view-in-github",
        "colab_type": "text"
      },
      "source": [
        "<a href=\"https://colab.research.google.com/github/alfianaxikka-ops/alfiana-Xl.1/blob/main/3_simple_app_Tabung_volume_XI_1_Alfiana.ipynb\" target=\"_parent\"><img src=\"https://colab.research.google.com/assets/colab-badge.svg\" alt=\"Open In Colab\"/></a>"
      ]
    },
    {
      "cell_type": "markdown",
      "source": [
        "Nama : Alfiana Ni'matul Ulya\n",
        "\n",
        "Kelas : XI.1\n",
        "\n",
        "No.absen : 3\n",
        "\n",
        "Nama kelompok : Coldplay"
      ],
      "metadata": {
        "id": "GXoWINI5gFNC"
      }
    },
    {
      "cell_type": "markdown",
      "source": [
        "## Aplikasi Sederhana Menghitung Volume"
      ],
      "metadata": {
        "id": "zHwCMB4xgk-T"
      }
    },
    {
      "cell_type": "code",
      "source": [
        "tinggi_tabung = float(input(\"Masukkan tinggi tabung (m): \"))\n",
        "jari_jari_tabung = float(input(\"Masukkan jari jari tabung (m): \"))\n",
        "π = 3.14\n",
        "volume = tinggi_tabung*jari_jari_tabung**2*π\n",
        "print(f\"volume tabung adalah {volume} m^3\")"
      ],
      "metadata": {
        "colab": {
          "base_uri": "https://localhost:8080/"
        },
        "id": "Q6uSqcgsfRDs",
        "outputId": "f99be99c-29d8-4f31-9e78-6ce99592184b"
      },
      "execution_count": null,
      "outputs": [
        {
          "output_type": "stream",
          "name": "stdout",
          "text": [
            "Masukkan tinggi tabung (m): 20.0\n",
            "Masukkan jari jari tabung (m): 10.0\n",
            "volume tabung adalah 6280.0 m^3\n"
          ]
        }
      ]
    }
  ]
}